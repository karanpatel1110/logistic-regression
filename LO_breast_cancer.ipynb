{
  "nbformat": 4,
  "nbformat_minor": 0,
  "metadata": {
    "colab": {
      "name": "LO_breast_cancer.ipynb",
      "provenance": []
    },
    "kernelspec": {
      "name": "python3",
      "display_name": "Python 3"
    },
    "language_info": {
      "name": "python"
    }
  },
  "cells": [
    {
      "cell_type": "code",
      "metadata": {
        "id": "MaTnRQ9zBmYg"
      },
      "source": [
        "import pandas as pd \n",
        "import numpy as np\n",
        "from sklearn.linear_model import LogisticRegression\n",
        "from sklearn.model_selection import train_test_split\n",
        "from sklearn.metrics import accuracy_score\n",
        "from sklearn.preprocessing import LabelEncoder"
      ],
      "execution_count": 7,
      "outputs": []
    },
    {
      "cell_type": "code",
      "metadata": {
        "id": "fCs2OwJiBuSu"
      },
      "source": [
        "dataset = pd.read_csv('data.csv')\n",
        "dataset.head()\n",
        "dataset_new=dataset.drop(['id','Unnamed: 32'],axis=1)"
      ],
      "execution_count": 8,
      "outputs": []
    },
    {
      "cell_type": "code",
      "metadata": {
        "colab": {
          "base_uri": "https://localhost:8080/"
        },
        "id": "cY39XTblDZfl",
        "outputId": "b946f79b-3b31-4028-cf0b-4d8651df671f"
      },
      "source": [
        "def enco(name):\n",
        "  le=LabelEncoder()\n",
        "  for col in dataset_new.columns:\n",
        "    if dataset_new[col].dtypes =='object':\n",
        "      dataset_new[col] = le.fit_transform(dataset_new[col])\n",
        "      return dataset_new\n",
        "data_new = enco(dataset_new)\n",
        "data_new.head()\n",
        "\n",
        "x = data_new.drop(['diagnosis'],axis=1)\n",
        "y = data_new.diagnosis\n",
        "print(x)\n",
        "print(y)"
      ],
      "execution_count": 9,
      "outputs": [
        {
          "output_type": "stream",
          "text": [
            "     radius_mean  texture_mean  ...  symmetry_worst  fractal_dimension_worst\n",
            "0          17.99         10.38  ...          0.4601                  0.11890\n",
            "1          20.57         17.77  ...          0.2750                  0.08902\n",
            "2          19.69         21.25  ...          0.3613                  0.08758\n",
            "3          11.42         20.38  ...          0.6638                  0.17300\n",
            "4          20.29         14.34  ...          0.2364                  0.07678\n",
            "..           ...           ...  ...             ...                      ...\n",
            "564        21.56         22.39  ...          0.2060                  0.07115\n",
            "565        20.13         28.25  ...          0.2572                  0.06637\n",
            "566        16.60         28.08  ...          0.2218                  0.07820\n",
            "567        20.60         29.33  ...          0.4087                  0.12400\n",
            "568         7.76         24.54  ...          0.2871                  0.07039\n",
            "\n",
            "[569 rows x 30 columns]\n",
            "0      1\n",
            "1      1\n",
            "2      1\n",
            "3      1\n",
            "4      1\n",
            "      ..\n",
            "564    1\n",
            "565    1\n",
            "566    1\n",
            "567    1\n",
            "568    0\n",
            "Name: diagnosis, Length: 569, dtype: int64\n"
          ],
          "name": "stdout"
        }
      ]
    },
    {
      "cell_type": "code",
      "metadata": {
        "colab": {
          "base_uri": "https://localhost:8080/"
        },
        "id": "1A_oWpmnFE_O",
        "outputId": "cd8da62f-296c-4e49-dcde-f2df17549fc8"
      },
      "source": [
        "x_train , x_test,y_train,y_test = train_test_split(x,y,test_size = 0.25,random_state = 1)\n",
        "print(x_train)\n",
        "lr = LogisticRegression()\n",
        "lr.fit(x_train,y_train)\n",
        "y_pred = lr.predict(x_test)\n",
        "acc = accuracy_score(y_test,y_pred)\n",
        "print(acc)"
      ],
      "execution_count": 11,
      "outputs": [
        {
          "output_type": "stream",
          "text": [
            "     radius_mean  texture_mean  ...  symmetry_worst  fractal_dimension_worst\n",
            "562        15.22         30.62  ...          0.4089                  0.14090\n",
            "291        14.96         19.10  ...          0.2962                  0.08472\n",
            "16         14.68         20.13  ...          0.3029                  0.08216\n",
            "546        10.32         16.35  ...          0.2681                  0.07399\n",
            "293        11.85         17.46  ...          0.3101                  0.07007\n",
            "..           ...           ...  ...             ...                      ...\n",
            "129        19.79         25.12  ...          0.3305                  0.08465\n",
            "144        10.75         14.97  ...          0.2300                  0.06769\n",
            "72         17.20         24.52  ...          0.3313                  0.13390\n",
            "235        14.03         21.25  ...          0.2226                  0.07617\n",
            "37         13.03         18.42  ...          0.1987                  0.06169\n",
            "\n",
            "[426 rows x 30 columns]\n",
            "0.951048951048951\n"
          ],
          "name": "stdout"
        },
        {
          "output_type": "stream",
          "text": [
            "/usr/local/lib/python3.7/dist-packages/sklearn/linear_model/_logistic.py:940: ConvergenceWarning: lbfgs failed to converge (status=1):\n",
            "STOP: TOTAL NO. of ITERATIONS REACHED LIMIT.\n",
            "\n",
            "Increase the number of iterations (max_iter) or scale the data as shown in:\n",
            "    https://scikit-learn.org/stable/modules/preprocessing.html\n",
            "Please also refer to the documentation for alternative solver options:\n",
            "    https://scikit-learn.org/stable/modules/linear_model.html#logistic-regression\n",
            "  extra_warning_msg=_LOGISTIC_SOLVER_CONVERGENCE_MSG)\n"
          ],
          "name": "stderr"
        }
      ]
    }
  ]
}