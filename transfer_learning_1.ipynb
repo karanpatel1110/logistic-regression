{
  "nbformat": 4,
  "nbformat_minor": 0,
  "metadata": {
    "colab": {
      "name": "transfer_learning_1.ipynb",
      "provenance": []
    },
    "kernelspec": {
      "name": "python3",
      "display_name": "Python 3"
    },
    "language_info": {
      "name": "python"
    }
  },
  "cells": [
    {
      "cell_type": "code",
      "metadata": {
        "id": "0oTX7trC_Xzk"
      },
      "source": [
        "import keras "
      ],
      "execution_count": 1,
      "outputs": []
    },
    {
      "cell_type": "code",
      "metadata": {
        "id": "aiHqxTn2_vre"
      },
      "source": [
        "from keras.applications.inception_v3 import InceptionV3\n",
        "from keras.preprocessing.image import load_img\n",
        "from keras.preprocessing.image import img_to_array\n",
        "from keras.applications.inception_v3 import preprocess_input\n",
        "from keras.applications.inception_v3 import decode_predictions"
      ],
      "execution_count": 2,
      "outputs": []
    },
    {
      "cell_type": "code",
      "metadata": {
        "colab": {
          "base_uri": "https://localhost:8080/"
        },
        "id": "UC2UrELSCCXQ",
        "outputId": "3f57b406-80ab-4e82-aab5-5e570d4ecd32"
      },
      "source": [
        "model = InceptionV3()\n",
        "#model.summary()\n",
        "img = load_img('sample_image.jpg',target_size=(299,299))\n",
        "img = img_to_array(img)\n",
        "img = img.reshape(1,img.shape[0], img.shape[1], img.shape[2])\n",
        "img = preprocess_input(img)\n",
        "prediction = model.predict(img)\n",
        "label = decode_predictions(prediction)\n",
        "print(label)\n",
        "label = label[0][0]\n",
        "#print(label[1])\n",
        "#print(label[2])\n",
        "print('%s (%.2f%%)' % (label[1],label[2]*100) )"
      ],
      "execution_count": 3,
      "outputs": [
        {
          "output_type": "stream",
          "text": [
            "Downloading data from https://storage.googleapis.com/tensorflow/keras-applications/inception_v3/inception_v3_weights_tf_dim_ordering_tf_kernels.h5\n",
            "96116736/96112376 [==============================] - 1s 0us/step\n",
            "96124928/96112376 [==============================] - 1s 0us/step\n",
            "Downloading data from https://storage.googleapis.com/download.tensorflow.org/data/imagenet_class_index.json\n",
            "40960/35363 [==================================] - 0s 0us/step\n",
            "49152/35363 [=========================================] - 0s 0us/step\n",
            "[[('n02504458', 'African_elephant', 0.7925465), ('n01871265', 'tusker', 0.17406583), ('n02504013', 'Indian_elephant', 0.0054843356), ('n02391049', 'zebra', 0.00021524998), ('n04033995', 'quilt', 0.00015631689)]]\n",
            "African_elephant (79.25%)\n"
          ],
          "name": "stdout"
        }
      ]
    }
  ]
}